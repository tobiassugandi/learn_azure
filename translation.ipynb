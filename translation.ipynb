{
 "cells": [
  {
   "cell_type": "markdown",
   "id": "cdfc50ec-05a7-45bb-8bd9-66c5ea2a4596",
   "metadata": {},
   "source": []
  },
  {
   "cell_type": "code",
   "execution_count": 1,
   "id": "5b3dcb03-a654-45d2-bc19-9be85fae7aaa",
   "metadata": {
    "tags": []
   },
   "outputs": [
    {
     "name": "stdout",
     "output_type": "stream",
     "text": [
      "Requirement already satisfied: azure-ai-translation-text==1.0.0b1 in /anaconda/envs/azureml_py310_sdkv2/lib/python3.10/site-packages (1.0.0b1)\n",
      "Requirement already satisfied: msrest>=0.7.1 in /anaconda/envs/azureml_py310_sdkv2/lib/python3.10/site-packages (from azure-ai-translation-text==1.0.0b1) (0.7.1)\n",
      "Requirement already satisfied: azure-core<2.0.0,>=1.24.0 in /anaconda/envs/azureml_py310_sdkv2/lib/python3.10/site-packages (from azure-ai-translation-text==1.0.0b1) (1.31.0)\n",
      "Requirement already satisfied: typing-extensions>=4.3.0 in /anaconda/envs/azureml_py310_sdkv2/lib/python3.10/site-packages (from azure-ai-translation-text==1.0.0b1) (4.12.2)\n",
      "Requirement already satisfied: requests>=2.21.0 in /anaconda/envs/azureml_py310_sdkv2/lib/python3.10/site-packages (from azure-core<2.0.0,>=1.24.0->azure-ai-translation-text==1.0.0b1) (2.32.3)\n",
      "Requirement already satisfied: six>=1.11.0 in /anaconda/envs/azureml_py310_sdkv2/lib/python3.10/site-packages (from azure-core<2.0.0,>=1.24.0->azure-ai-translation-text==1.0.0b1) (1.16.0)\n",
      "Requirement already satisfied: certifi>=2017.4.17 in /anaconda/envs/azureml_py310_sdkv2/lib/python3.10/site-packages (from msrest>=0.7.1->azure-ai-translation-text==1.0.0b1) (2024.8.30)\n",
      "Requirement already satisfied: isodate>=0.6.0 in /anaconda/envs/azureml_py310_sdkv2/lib/python3.10/site-packages (from msrest>=0.7.1->azure-ai-translation-text==1.0.0b1) (0.6.1)\n",
      "Requirement already satisfied: requests-oauthlib>=0.5.0 in /anaconda/envs/azureml_py310_sdkv2/lib/python3.10/site-packages (from msrest>=0.7.1->azure-ai-translation-text==1.0.0b1) (2.0.0)\n",
      "Requirement already satisfied: charset-normalizer<4,>=2 in /anaconda/envs/azureml_py310_sdkv2/lib/python3.10/site-packages (from requests>=2.21.0->azure-core<2.0.0,>=1.24.0->azure-ai-translation-text==1.0.0b1) (3.3.2)\n",
      "Requirement already satisfied: idna<4,>=2.5 in /anaconda/envs/azureml_py310_sdkv2/lib/python3.10/site-packages (from requests>=2.21.0->azure-core<2.0.0,>=1.24.0->azure-ai-translation-text==1.0.0b1) (3.10)\n",
      "Requirement already satisfied: urllib3<3,>=1.21.1 in /anaconda/envs/azureml_py310_sdkv2/lib/python3.10/site-packages (from requests>=2.21.0->azure-core<2.0.0,>=1.24.0->azure-ai-translation-text==1.0.0b1) (2.2.3)\n",
      "Requirement already satisfied: oauthlib>=3.0.0 in /anaconda/envs/azureml_py310_sdkv2/lib/python3.10/site-packages (from requests-oauthlib>=0.5.0->msrest>=0.7.1->azure-ai-translation-text==1.0.0b1) (3.2.2)\n",
      "Note: you may need to restart the kernel to use updated packages.\n"
     ]
    }
   ],
   "source": [
    "%pip install azure-ai-translation-text==1.0.0b1"
   ]
  },
  {
   "cell_type": "code",
   "execution_count": 2,
   "id": "b0e9241e-e2c8-40f8-90ae-2ebd70b12439",
   "metadata": {
    "tags": []
   },
   "outputs": [],
   "source": [
    "from azure.ai.translation.text import TextTranslationClient, TranslatorCredential\n",
    "from azure.ai.translation.text.models import InputTextItem\n",
    "from azure.core.exceptions import HttpResponseError"
   ]
  },
  {
   "cell_type": "code",
   "execution_count": 6,
   "id": "bc71e42a-2573-4964-8e76-a684b82f5d22",
   "metadata": {},
   "outputs": [],
   "source": [
    "key = \n",
    "endpoint = \"https://api.cognitive.microsofttranslator.com/\"\n",
    "region = \"westus\"\n",
    "\n",
    "credential = TranslatorCredential(key,region)\n",
    "text_translator = TextTranslationClient(endpoint = endpoint, credential = credential)"
   ]
  },
  {
   "cell_type": "code",
   "execution_count": 7,
   "id": "8ebd98f0-4bb0-43ad-bd91-66abacbcd11f",
   "metadata": {
    "tags": []
   },
   "outputs": [
    {
     "name": "stdout",
     "output_type": "stream",
     "text": [
      "response=[{'translations': [{'text': 'Esto es una prueba', 'to': 'es'}, {'text': 'Questo è un test', 'to': 'it'}]}]\n",
      "Text was translated to: 'es' and the result is: 'Esto es una prueba'.\n",
      "Text was translated to: 'it' and the result is: 'Questo è un test'.\n"
     ]
    }
   ],
   "source": [
    "try:\n",
    "    source_language = \"en\"\n",
    "    target_languages = [\"es\", \"it\"]\n",
    "    input_text_elements = [ InputTextItem(text = \"This is a test\") ]\n",
    "    \n",
    "    response = text_translator.translate(content = input_text_elements,\n",
    "                                         to = target_languages,\n",
    "                                         from_parameter = source_language)\n",
    "    print(f\"{response=}\")\n",
    "    translation = response[0] if response else None\n",
    "    \n",
    "    if translation:\n",
    "        for translated_text in translation.translations:\n",
    "            print(f\"Text was translated to: '{translated_text.to}' and the result is: '{translated_text.text}'.\")\n",
    "            \n",
    "except HttpResponseError as exception:\n",
    "    print(f\"Error code: {exception.error.code}\")\n",
    "    print(f\"{exception.error.message=}\")"
   ]
  },
  {
   "cell_type": "code",
   "execution_count": null,
   "id": "fd7711f8-ac90-4d33-87a6-9225ee0ddb8c",
   "metadata": {},
   "outputs": [],
   "source": []
  }
 ],
 "metadata": {
  "kernelspec": {
   "display_name": "Python 3.10 - SDK v2",
   "language": "python",
   "name": "python310-sdkv2"
  },
  "language_info": {
   "codemirror_mode": {
    "name": "ipython",
    "version": 3
   },
   "file_extension": ".py",
   "mimetype": "text/x-python",
   "name": "python",
   "nbconvert_exporter": "python",
   "pygments_lexer": "ipython3",
   "version": "3.10.14"
  }
 },
 "nbformat": 4,
 "nbformat_minor": 5
}
